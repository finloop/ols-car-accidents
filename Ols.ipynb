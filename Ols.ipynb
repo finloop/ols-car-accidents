{
 "cells": [
  {
   "cell_type": "markdown",
   "id": "b9f19866-70e0-45ff-859c-3be68af5b1df",
   "metadata": {},
   "source": [
    "# Abstrakt\n"
   ]
  },
  {
   "cell_type": "markdown",
   "id": "656d32fe-16d7-43fe-a843-c3ee378a3190",
   "metadata": {},
   "source": [
    "# Cel projektu\n",
    "\n",
    "Celem projektu było stworzenie liniowego modelu ilości wpadków na drogach z pomocą zmiennych objaśniających pobranych ze strony policji oraz na podstawie pogody."
   ]
  },
  {
   "cell_type": "code",
   "execution_count": null,
   "id": "fac70e9d-f1c9-429d-8f7e-b10e7124ab1d",
   "metadata": {},
   "outputs": [],
   "source": [
    "# Dane"
   ]
  }
 ],
 "metadata": {
  "kernelspec": {
   "display_name": "Python 3",
   "language": "python",
   "name": "python3"
  },
  "language_info": {
   "codemirror_mode": {
    "name": "ipython",
    "version": 3
   },
   "file_extension": ".py",
   "mimetype": "text/x-python",
   "name": "python",
   "nbconvert_exporter": "python",
   "pygments_lexer": "ipython3",
   "version": "3.7.10"
  }
 },
 "nbformat": 4,
 "nbformat_minor": 5
}
