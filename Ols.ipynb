{
 "cells": [
  {
   "cell_type": "markdown",
   "id": "b9f19866-70e0-45ff-859c-3be68af5b1df",
   "metadata": {},
   "source": [
    "# Abstrakt\n"
   ]
  },
  {
   "cell_type": "markdown",
   "id": "656d32fe-16d7-43fe-a843-c3ee378a3190",
   "metadata": {},
   "source": [
    "# Cel projektu\n",
    "\n",
    "Celem projektu było stworzenie liniowego modelu ilości wpadków na drogach z pomocą zmiennych objaśniających pobranych ze strony policji oraz na podstawie pogody."
   ]
  },
  {
   "cell_type": "markdown",
   "id": "297d1019-c5a1-4036-9546-9dfe2d742572",
   "metadata": {},
   "source": [
    "# Dane\n",
    "\n",
    "Dane pochodzą ze strony policji, obejmują zakres pierwszego kwartału roku 2020. Więcej o nich można znaleźć tutaj: [Strona policji](https://policja.pl/pol/form/1,dok.html)\n",
    "\n",
    "Drugi zestaw danych to dane meteorologiczne dla Warszawy, również z pierwszego kwartału roku 2020. Pobrane zostały z pomocą API platrofmy www.meteostat.net/"
   ]
  },
  {
   "cell_type": "markdown",
   "id": "0700b721-4a4f-4ed0-b874-f88ada769138",
   "metadata": {},
   "source": [
    "## Pobranie danych"
   ]
  },
  {
   "cell_type": "code",
   "execution_count": 1,
   "id": "25ba62df-f36d-4a26-9cfb-6b3d6719fa03",
   "metadata": {},
   "outputs": [],
   "source": [
    "import pandas\n",
    "import numpy as np"
   ]
  },
  {
   "cell_type": "code",
   "execution_count": 2,
   "id": "99733f22-c42d-4815-aefb-d081c99b3e09",
   "metadata": {},
   "outputs": [],
   "source": [
    "df = pandas.read_csv(\"./dane.csv\", sep=\"\\t\", decimal=\",\", dtype=\"float32\")"
   ]
  },
  {
   "cell_type": "code",
   "execution_count": 3,
   "id": "acb3dc3d-689c-476c-9d06-2e1a80cb7e18",
   "metadata": {},
   "outputs": [
    {
     "name": "stdout",
     "output_type": "stream",
     "text": [
      "<class 'pandas.core.frame.DataFrame'>\n",
      "RangeIndex: 60 entries, 0 to 59\n",
      "Data columns (total 11 columns):\n",
      " #   Column                           Non-Null Count  Dtype  \n",
      "---  ------                           --------------  -----  \n",
      " 0   Wypadki drogowe                  60 non-null     float32\n",
      " 1   Zatrzymani poszukiwani           60 non-null     float32\n",
      " 2   Zatrzymani nietrzeźwi kierujący  60 non-null     float32\n",
      " 3   temperature_max                  60 non-null     float32\n",
      " 4   mobilność pojazdów               60 non-null     float32\n",
      " 5   Zabici w wypadkach               60 non-null     float32\n",
      " 6   Ranni w wypadkach                60 non-null     float32\n",
      " 7   temperature                      60 non-null     float32\n",
      " 8   temperature_min                  60 non-null     float32\n",
      " 9   Interwencje                      60 non-null     float32\n",
      " 10  Zatrzymani na gorącym uczynku    60 non-null     float32\n",
      "dtypes: float32(11)\n",
      "memory usage: 2.7 KB\n"
     ]
    }
   ],
   "source": [
    "df.info()"
   ]
  },
  {
   "cell_type": "markdown",
   "id": "85977d53-327c-42f3-ba57-9c0005208f8d",
   "metadata": {},
   "source": [
    "Jak widać powyżej dane składają się z 60 próbek oraz nie posiadają pustych wartości."
   ]
  },
  {
   "cell_type": "markdown",
   "id": "2f9fc76b-d410-4ed3-bde2-25f354f6f3b9",
   "metadata": {},
   "source": [
    "## Eliminacja quasi - stalych"
   ]
  },
  {
   "cell_type": "code",
   "execution_count": 4,
   "id": "e0eeb37a-3f4e-43c4-87ec-5a731c47b292",
   "metadata": {},
   "outputs": [],
   "source": [
    "S = df.var()\n",
    "x = df.mean()"
   ]
  },
  {
   "cell_type": "code",
   "execution_count": 5,
   "id": "a2cc2242-4d93-42c9-9fb4-764009fb24d4",
   "metadata": {},
   "outputs": [
    {
     "data": {
      "text/plain": [
       "Wypadki drogowe                      5.019958\n",
       "Zatrzymani poszukiwani              16.410904\n",
       "Zatrzymani nietrzeźwi kierujący     13.943410\n",
       "temperature_max                      1.059987\n",
       "mobilność pojazdów                 -13.597410\n",
       "Zabici w wypadkach                   1.414983\n",
       "Ranni w wypadkach                    6.134233\n",
       "temperature                          1.120702\n",
       "temperature_min                      2.801074\n",
       "Interwencje                        234.719513\n",
       "Zatrzymani na gorącym uczynku       24.527481\n",
       "dtype: float32"
      ]
     },
     "execution_count": 5,
     "metadata": {},
     "output_type": "execute_result"
    }
   ],
   "source": [
    "S / x"
   ]
  },
  {
   "cell_type": "markdown",
   "id": "b0fda115-cc9c-4155-9530-378909b1e8d3",
   "metadata": {},
   "source": [
    "Ze względu na małą zmienność (5%) wartości przewydywanej (wypadki drogowe). W modelu uwzględnię wszystkie zmienne, kóre mają zmienność większą."
   ]
  },
  {
   "cell_type": "code",
   "execution_count": 6,
   "id": "d07e26cc-ebd1-448b-ac57-5d594a275123",
   "metadata": {},
   "outputs": [],
   "source": [
    "df = df[df.columns[np.abs((S / x)) > 5]]"
   ]
  },
  {
   "cell_type": "code",
   "execution_count": 7,
   "id": "9201c270-25a4-401f-849f-f94f46e2eae1",
   "metadata": {},
   "outputs": [
    {
     "data": {
      "text/html": [
       "<div>\n",
       "<style scoped>\n",
       "    .dataframe tbody tr th:only-of-type {\n",
       "        vertical-align: middle;\n",
       "    }\n",
       "\n",
       "    .dataframe tbody tr th {\n",
       "        vertical-align: top;\n",
       "    }\n",
       "\n",
       "    .dataframe thead th {\n",
       "        text-align: right;\n",
       "    }\n",
       "</style>\n",
       "<table border=\"1\" class=\"dataframe\">\n",
       "  <thead>\n",
       "    <tr style=\"text-align: right;\">\n",
       "      <th></th>\n",
       "      <th>Wypadki drogowe</th>\n",
       "      <th>Zatrzymani poszukiwani</th>\n",
       "      <th>Zatrzymani nietrzeźwi kierujący</th>\n",
       "      <th>mobilność pojazdów</th>\n",
       "      <th>Ranni w wypadkach</th>\n",
       "      <th>Interwencje</th>\n",
       "      <th>Zatrzymani na gorącym uczynku</th>\n",
       "    </tr>\n",
       "  </thead>\n",
       "  <tbody>\n",
       "    <tr>\n",
       "      <th>0</th>\n",
       "      <td>31.0</td>\n",
       "      <td>126.0</td>\n",
       "      <td>106.0</td>\n",
       "      <td>-62.619999</td>\n",
       "      <td>30.0</td>\n",
       "      <td>11688.0</td>\n",
       "      <td>255.0</td>\n",
       "    </tr>\n",
       "    <tr>\n",
       "      <th>1</th>\n",
       "      <td>17.0</td>\n",
       "      <td>139.0</td>\n",
       "      <td>104.0</td>\n",
       "      <td>-63.669998</td>\n",
       "      <td>27.0</td>\n",
       "      <td>13228.0</td>\n",
       "      <td>301.0</td>\n",
       "    </tr>\n",
       "    <tr>\n",
       "      <th>2</th>\n",
       "      <td>29.0</td>\n",
       "      <td>151.0</td>\n",
       "      <td>94.0</td>\n",
       "      <td>-64.220001</td>\n",
       "      <td>32.0</td>\n",
       "      <td>13966.0</td>\n",
       "      <td>296.0</td>\n",
       "    </tr>\n",
       "    <tr>\n",
       "      <th>3</th>\n",
       "      <td>24.0</td>\n",
       "      <td>153.0</td>\n",
       "      <td>114.0</td>\n",
       "      <td>-63.400002</td>\n",
       "      <td>20.0</td>\n",
       "      <td>15926.0</td>\n",
       "      <td>285.0</td>\n",
       "    </tr>\n",
       "    <tr>\n",
       "      <th>4</th>\n",
       "      <td>30.0</td>\n",
       "      <td>151.0</td>\n",
       "      <td>145.0</td>\n",
       "      <td>-70.489998</td>\n",
       "      <td>33.0</td>\n",
       "      <td>18900.0</td>\n",
       "      <td>383.0</td>\n",
       "    </tr>\n",
       "  </tbody>\n",
       "</table>\n",
       "</div>"
      ],
      "text/plain": [
       "   Wypadki drogowe  Zatrzymani poszukiwani  Zatrzymani nietrzeźwi kierujący  \\\n",
       "0             31.0                   126.0                            106.0   \n",
       "1             17.0                   139.0                            104.0   \n",
       "2             29.0                   151.0                             94.0   \n",
       "3             24.0                   153.0                            114.0   \n",
       "4             30.0                   151.0                            145.0   \n",
       "\n",
       "   mobilność pojazdów  Ranni w wypadkach  Interwencje  \\\n",
       "0          -62.619999               30.0      11688.0   \n",
       "1          -63.669998               27.0      13228.0   \n",
       "2          -64.220001               32.0      13966.0   \n",
       "3          -63.400002               20.0      15926.0   \n",
       "4          -70.489998               33.0      18900.0   \n",
       "\n",
       "   Zatrzymani na gorącym uczynku  \n",
       "0                          255.0  \n",
       "1                          301.0  \n",
       "2                          296.0  \n",
       "3                          285.0  \n",
       "4                          383.0  "
      ]
     },
     "execution_count": 7,
     "metadata": {},
     "output_type": "execute_result"
    }
   ],
   "source": [
    "df.head(5)"
   ]
  },
  {
   "cell_type": "markdown",
   "id": "4e5d9f1d-e722-486a-b8e2-48f10596368b",
   "metadata": {},
   "source": [
    "# Wybór zmiennych do modelu\n",
    "\n",
    "Wybierając zmienne w modelu, posłużę się metodą analizy macierzy współczynników korelacji."
   ]
  },
  {
   "cell_type": "code",
   "execution_count": 8,
   "id": "79eb6757-5582-443e-a045-a17c9bbf53df",
   "metadata": {},
   "outputs": [],
   "source": [
    "from scipy.stats import t\n",
    "\n",
    "alpha = 0.05\n",
    "N = len(df)\n",
    "t = t.ppf(1 - alpha, N-2)"
   ]
  },
  {
   "cell_type": "code",
   "execution_count": 9,
   "id": "6505a08f-b3aa-4d09-afe1-61c1e3987bfc",
   "metadata": {},
   "outputs": [
    {
     "data": {
      "text/plain": [
       "0.2143825406137366"
      ]
     },
     "execution_count": 9,
     "metadata": {},
     "output_type": "execute_result"
    }
   ],
   "source": [
    "r = np.sqrt(t**2/(t**2 + N - 2))\n",
    "r"
   ]
  },
  {
   "cell_type": "code",
   "execution_count": 10,
   "id": "c6ddb094-2114-4145-9b85-da145e5b4fbf",
   "metadata": {},
   "outputs": [
    {
     "data": {
      "text/html": [
       "<div>\n",
       "<style scoped>\n",
       "    .dataframe tbody tr th:only-of-type {\n",
       "        vertical-align: middle;\n",
       "    }\n",
       "\n",
       "    .dataframe tbody tr th {\n",
       "        vertical-align: top;\n",
       "    }\n",
       "\n",
       "    .dataframe thead th {\n",
       "        text-align: right;\n",
       "    }\n",
       "</style>\n",
       "<table border=\"1\" class=\"dataframe\">\n",
       "  <thead>\n",
       "    <tr style=\"text-align: right;\">\n",
       "      <th></th>\n",
       "      <th>Wypadki drogowe</th>\n",
       "      <th>Zatrzymani poszukiwani</th>\n",
       "      <th>Zatrzymani nietrzeźwi kierujący</th>\n",
       "      <th>mobilność pojazdów</th>\n",
       "      <th>Ranni w wypadkach</th>\n",
       "      <th>Interwencje</th>\n",
       "      <th>Zatrzymani na gorącym uczynku</th>\n",
       "    </tr>\n",
       "  </thead>\n",
       "  <tbody>\n",
       "    <tr>\n",
       "      <th>Wypadki drogowe</th>\n",
       "      <td>1.000000</td>\n",
       "      <td>0.507234</td>\n",
       "      <td>0.429340</td>\n",
       "      <td>0.767076</td>\n",
       "      <td>0.960340</td>\n",
       "      <td>0.379193</td>\n",
       "      <td>0.690641</td>\n",
       "    </tr>\n",
       "    <tr>\n",
       "      <th>Zatrzymani poszukiwani</th>\n",
       "      <td>0.507234</td>\n",
       "      <td>1.000000</td>\n",
       "      <td>-0.134454</td>\n",
       "      <td>0.723037</td>\n",
       "      <td>0.492617</td>\n",
       "      <td>0.192777</td>\n",
       "      <td>0.462056</td>\n",
       "    </tr>\n",
       "    <tr>\n",
       "      <th>Zatrzymani nietrzeźwi kierujący</th>\n",
       "      <td>0.429340</td>\n",
       "      <td>-0.134454</td>\n",
       "      <td>1.000000</td>\n",
       "      <td>0.401068</td>\n",
       "      <td>0.415218</td>\n",
       "      <td>0.120871</td>\n",
       "      <td>0.750261</td>\n",
       "    </tr>\n",
       "    <tr>\n",
       "      <th>mobilność pojazdów</th>\n",
       "      <td>0.767076</td>\n",
       "      <td>0.723037</td>\n",
       "      <td>0.401068</td>\n",
       "      <td>1.000000</td>\n",
       "      <td>0.751973</td>\n",
       "      <td>0.086337</td>\n",
       "      <td>0.831563</td>\n",
       "    </tr>\n",
       "    <tr>\n",
       "      <th>Ranni w wypadkach</th>\n",
       "      <td>0.960340</td>\n",
       "      <td>0.492617</td>\n",
       "      <td>0.415218</td>\n",
       "      <td>0.751973</td>\n",
       "      <td>1.000000</td>\n",
       "      <td>0.292307</td>\n",
       "      <td>0.680938</td>\n",
       "    </tr>\n",
       "    <tr>\n",
       "      <th>Interwencje</th>\n",
       "      <td>0.379193</td>\n",
       "      <td>0.192777</td>\n",
       "      <td>0.120871</td>\n",
       "      <td>0.086337</td>\n",
       "      <td>0.292307</td>\n",
       "      <td>1.000000</td>\n",
       "      <td>0.154223</td>\n",
       "    </tr>\n",
       "    <tr>\n",
       "      <th>Zatrzymani na gorącym uczynku</th>\n",
       "      <td>0.690641</td>\n",
       "      <td>0.462056</td>\n",
       "      <td>0.750261</td>\n",
       "      <td>0.831563</td>\n",
       "      <td>0.680938</td>\n",
       "      <td>0.154223</td>\n",
       "      <td>1.000000</td>\n",
       "    </tr>\n",
       "  </tbody>\n",
       "</table>\n",
       "</div>"
      ],
      "text/plain": [
       "                                 Wypadki drogowe  Zatrzymani poszukiwani  \\\n",
       "Wypadki drogowe                         1.000000                0.507234   \n",
       "Zatrzymani poszukiwani                  0.507234                1.000000   \n",
       "Zatrzymani nietrzeźwi kierujący         0.429340               -0.134454   \n",
       "mobilność pojazdów                      0.767076                0.723037   \n",
       "Ranni w wypadkach                       0.960340                0.492617   \n",
       "Interwencje                             0.379193                0.192777   \n",
       "Zatrzymani na gorącym uczynku           0.690641                0.462056   \n",
       "\n",
       "                                 Zatrzymani nietrzeźwi kierujący  \\\n",
       "Wypadki drogowe                                         0.429340   \n",
       "Zatrzymani poszukiwani                                 -0.134454   \n",
       "Zatrzymani nietrzeźwi kierujący                         1.000000   \n",
       "mobilność pojazdów                                      0.401068   \n",
       "Ranni w wypadkach                                       0.415218   \n",
       "Interwencje                                             0.120871   \n",
       "Zatrzymani na gorącym uczynku                           0.750261   \n",
       "\n",
       "                                 mobilność pojazdów  Ranni w wypadkach  \\\n",
       "Wypadki drogowe                            0.767076           0.960340   \n",
       "Zatrzymani poszukiwani                     0.723037           0.492617   \n",
       "Zatrzymani nietrzeźwi kierujący            0.401068           0.415218   \n",
       "mobilność pojazdów                         1.000000           0.751973   \n",
       "Ranni w wypadkach                          0.751973           1.000000   \n",
       "Interwencje                                0.086337           0.292307   \n",
       "Zatrzymani na gorącym uczynku              0.831563           0.680938   \n",
       "\n",
       "                                 Interwencje  Zatrzymani na gorącym uczynku  \n",
       "Wypadki drogowe                     0.379193                       0.690641  \n",
       "Zatrzymani poszukiwani              0.192777                       0.462056  \n",
       "Zatrzymani nietrzeźwi kierujący     0.120871                       0.750261  \n",
       "mobilność pojazdów                  0.086337                       0.831563  \n",
       "Ranni w wypadkach                   0.292307                       0.680938  \n",
       "Interwencje                         1.000000                       0.154223  \n",
       "Zatrzymani na gorącym uczynku       0.154223                       1.000000  "
      ]
     },
     "execution_count": 10,
     "metadata": {},
     "output_type": "execute_result"
    }
   ],
   "source": [
    "df.corr()"
   ]
  },
  {
   "cell_type": "markdown",
   "id": "10934268-0d6a-4270-9e65-e8a36eded395",
   "metadata": {},
   "source": [
    "1. Usuwam zmienne, dla których wartość w kolumnie `Wypadki drogowe` jest poniżej progu `r` (tutaj wszystkie są OK)."
   ]
  },
  {
   "cell_type": "code",
   "execution_count": 11,
   "id": "2399a2d8-ff7e-4f36-a364-94c9d2988ae5",
   "metadata": {},
   "outputs": [
    {
     "data": {
      "text/plain": [
       "Wypadki drogowe                    0.960340\n",
       "Zatrzymani poszukiwani             0.492617\n",
       "Zatrzymani nietrzeźwi kierujący    0.415218\n",
       "mobilność pojazdów                 0.751973\n",
       "Ranni w wypadkach                  1.000000\n",
       "Interwencje                        0.292307\n",
       "Zatrzymani na gorącym uczynku      0.680938\n",
       "Name: Ranni w wypadkach, dtype: float64"
      ]
     },
     "execution_count": 11,
     "metadata": {},
     "output_type": "execute_result"
    }
   ],
   "source": [
    "df.corr().loc[\"Ranni w wypadkach\"]"
   ]
  },
  {
   "cell_type": "markdown",
   "id": "172db409-2f8a-45e4-b377-56cfaa20e7a3",
   "metadata": {},
   "source": [
    "2. Wybieram `Ranni w wypadkach`. Usuwam `Zatrzymani poszukiwani`, `Zatrzymani nietrzeźwi kierujący`, `mobilność pojazdów`, `Interwencje` ,`Zatrzymani na gorącym uczynku`, \n",
    "3. Koniec."
   ]
  },
  {
   "cell_type": "markdown",
   "id": "375aa5a5-1dfb-4de8-965b-5c26bf2b96f1",
   "metadata": {},
   "source": [
    "# Budowa modelu\n",
    "## Model 1"
   ]
  },
  {
   "cell_type": "code",
   "execution_count": 12,
   "id": "cc8d4f81-e089-4e34-990d-aba2e4e522d9",
   "metadata": {},
   "outputs": [],
   "source": [
    "import statsmodels.api as sm\n",
    "\n",
    "y = df['Wypadki drogowe']\n",
    "X = df[['Ranni w wypadkach']]\n",
    "X = sm.add_constant(X) # Dodaję stałą do modelu"
   ]
  },
  {
   "cell_type": "code",
   "execution_count": 13,
   "id": "58bc194c-8235-4167-a17f-4528ca18a4f3",
   "metadata": {},
   "outputs": [],
   "source": [
    "model = sm.OLS(y, X)"
   ]
  },
  {
   "cell_type": "code",
   "execution_count": 14,
   "id": "d46a9048-d01f-433c-9d50-ef107a05ad4e",
   "metadata": {},
   "outputs": [
    {
     "name": "stdout",
     "output_type": "stream",
     "text": [
      "                 Results: Ordinary least squares\n",
      "=================================================================\n",
      "Model:              OLS              Adj. R-squared:     0.921   \n",
      "Dependent Variable: Wypadki drogowe  AIC:                345.3008\n",
      "Date:               2022-01-02 20:21 BIC:                349.4895\n",
      "No. Observations:   60               Log-Likelihood:     -170.65 \n",
      "Df Model:           1                F-statistic:        688.0   \n",
      "Df Residuals:       58               Prob (F-statistic): 7.33e-34\n",
      "R-squared:          0.922            Scale:              17.892  \n",
      "-----------------------------------------------------------------\n",
      "                     Coef.  Std.Err.    t    P>|t|  [0.025 0.975]\n",
      "-----------------------------------------------------------------\n",
      "const                3.6426   1.6710  2.1798 0.0333 0.2976 6.9875\n",
      "Ranni w wypadkach    0.8211   0.0313 26.2298 0.0000 0.7584 0.8838\n",
      "-----------------------------------------------------------------\n",
      "Omnibus:               5.317        Durbin-Watson:          1.687\n",
      "Prob(Omnibus):         0.070        Jarque-Bera (JB):       4.333\n",
      "Skew:                  -0.559       Prob(JB):               0.115\n",
      "Kurtosis:              3.695        Condition No.:          163  \n",
      "=================================================================\n",
      "\n"
     ]
    }
   ],
   "source": [
    "results = model.fit()\n",
    "print(results.summary2())"
   ]
  },
  {
   "cell_type": "markdown",
   "id": "f7efb639-95ff-4433-89f7-42f874378ae4",
   "metadata": {},
   "source": [
    "Model ma:\n",
    "- [x] R-squared powyżej 0.8\n",
    "- [x] Adj. R-squared powyżej 0.8\n",
    "- [x] Prob (F-statistic) < 0.05\n",
    "- [x] p value dla każdej ze zmiennych < 0.05\n",
    "- [x] Prob(Omnibus) > 0.05 (test normalności reszt, H_0: rozkład normalny)\n",
    "- [x] Prob(JB) > 0.05\n",
    "\n",
    "Zatem model przeszedł wszystkie testy statystyczne."
   ]
  },
  {
   "cell_type": "markdown",
   "id": "571b6584-79f5-4222-a59e-d1dc3f61430d",
   "metadata": {},
   "source": [
    "### Analiza reszt"
   ]
  },
  {
   "cell_type": "code",
   "execution_count": 15,
   "id": "e55e712c-1717-4253-bcea-958fe6a11cbe",
   "metadata": {
    "jupyter": {
     "source_hidden": true
    },
    "tags": []
   },
   "outputs": [],
   "source": [
    "import seaborn as sns"
   ]
  },
  {
   "cell_type": "code",
   "execution_count": 16,
   "id": "026b5e53-1e3f-49a2-88c3-3003308276ec",
   "metadata": {
    "jupyter": {
     "source_hidden": true
    },
    "tags": []
   },
   "outputs": [
    {
     "data": {
      "text/plain": [
       "Text(0.5, 1.0, 'Histogram reszt modelu')"
      ]
     },
     "execution_count": 16,
     "metadata": {},
     "output_type": "execute_result"
    },
    {
     "data": {
      "image/png": "[encoded data removed]",
      "text/plain": [
       "<Figure size 432x288 with 1 Axes>"
      ]
     },
     "metadata": {
      "needs_background": "light"
     },
     "output_type": "display_data"
    }
   ],
   "source": [
    "sns.histplot(results.resid).set_title('Histogram reszt modelu')"
   ]
  },
  {
   "cell_type": "markdown",
   "id": "29ab631d-c31a-4e76-82d5-b6d2a57b8974",
   "metadata": {},
   "source": [
    "Jak widać na wykresie, reszty te przypominają rozkład normalny, ale cechują się przechyleniem w prawo.\n",
    "\n",
    "**Test normalności rozkładu reszt**"
   ]
  },
  {
   "cell_type": "code",
   "execution_count": 21,
   "id": "a63dcfa1-5f8e-4748-a3b6-c6acaf2c46af",
   "metadata": {},
   "outputs": [
    {
     "name": "stdout",
     "output_type": "stream",
     "text": [
      "Pvalue: 0.0700463215582532\n"
     ]
    }
   ],
   "source": [
    "# Test normalności rozkładu rest\n",
    "from scipy.stats import normaltest\n",
    "print(\"Pvalue:\", normaltest(results.resid).pvalue)"
   ]
  },
  {
   "cell_type": "markdown",
   "id": "2d524048-db42-4a38-add7-e9a466295d46",
   "metadata": {},
   "source": [
    "Aby sprawdzić czy reszty mają rozkład normalny skorzystałem z funkcji normaltest. Więcej o niej można poczytac pod adresem: [dokumentacja scipy](https://docs.scipy.org/doc/scipy/reference/generated/scipy.stats.normaltest.html). Opiera się on na testach D’Agostino oraz Pearsona, gdzie $H_o$ - próbki pochodzą z rozkładu normalnego. Pvalue jest większe od 0.05 zatem mam **brak podstaw do odrzucenia $H_o$.**\n",
    "\n",
    "**Test serii**"
   ]
  },
  {
   "cell_type": "code",
   "execution_count": 22,
   "id": "2c6757af-731b-41fc-8a51-c6a8ee964a61",
   "metadata": {},
   "outputs": [
    {
     "name": "stdout",
     "output_type": "stream",
     "text": [
      "Test serii\n",
      "Wartość statystyki: -0.38897672411182915\n",
      "Pvalue : 0.697293364649107\n"
     ]
    }
   ],
   "source": [
    "# Test serii\n",
    "from statsmodels.sandbox.stats.runs import runstest_1samp \n",
    "z_statistic, pvalue = runstest_1samp(results.resid)\n",
    "print(\"Test serii\")\n",
    "print(f\"Wartość statystyki: {z_statistic}\")\n",
    "print(f\"Pvalue : {pvalue}\")"
   ]
  },
  {
   "cell_type": "markdown",
   "id": "88c53a5a-6a9c-4709-a401-3dac70556887",
   "metadata": {},
   "source": [
    "Pvalue jest > 0.05 zatem **brak podstaw do odrzucenia $H_o$.**\n",
    "\n",
    "**Test skośności**"
   ]
  },
  {
   "cell_type": "code",
   "execution_count": 34,
   "id": "4c48e231-1dc6-4c90-9d84-5ec084e5ae7e",
   "metadata": {},
   "outputs": [
    {
     "data": {
      "text/plain": [
       "SkewtestResult(statistic=-1.8481640002989976, pvalue=0.06457862153466662)"
      ]
     },
     "execution_count": 34,
     "metadata": {},
     "output_type": "execute_result"
    }
   ],
   "source": [
    "from scipy.stats import skewtest\n",
    "skewtest(a=results.resid)"
   ]
  },
  {
   "cell_type": "markdown",
   "id": "40884d72-9344-42eb-9da9-549aea74e163",
   "metadata": {},
   "source": [
    "$H_o$ tego testu jest taka iż skośność jest taka sama jak w rozkładzie normalnym\n",
    "Pvalue jest większe niż 0.05 **zatem brak podstaw do odrzucenia $H_o$**.\n",
    "\n",
    "**Test kurtozy reszt**"
   ]
  },
  {
   "cell_type": "code",
   "execution_count": 39,
   "id": "de735784-d814-43e0-b4e1-015aa2355cc9",
   "metadata": {},
   "outputs": [
    {
     "data": {
      "text/plain": [
       "KurtosistestResult(statistic=1.3789441128898536, pvalue=0.16791198576635435)"
      ]
     },
     "execution_count": 39,
     "metadata": {},
     "output_type": "execute_result"
    }
   ],
   "source": [
    "from scipy.stats import kurtosistest\n",
    "kurtosistest(results.resid)"
   ]
  },
  {
   "cell_type": "markdown",
   "id": "21570906-75e0-46ec-98f0-515296aa0aa5",
   "metadata": {},
   "source": [
    "$H_o$ tego testu jest taka iż kurtoza jest taka sama jak w rozkładzie normalnym\n",
    "Pvalue jest większe niż 0.05 **zatem brak podstaw do odrzucenia $H_o$**.\n",
    "\n",
    "**Statystyka Durbina-Watsona**"
   ]
  },
  {
   "cell_type": "code",
   "execution_count": 40,
   "id": "5b317b94-c23f-4f67-bde2-17dff6080ccb",
   "metadata": {},
   "outputs": [
    {
     "data": {
      "text/plain": [
       "1.687491750620559"
      ]
     },
     "execution_count": 40,
     "metadata": {},
     "output_type": "execute_result"
    }
   ],
   "source": [
    "from statsmodels.stats.stattools import durbin_watson\n",
    "\n",
    "durbin_watson(results.resid)"
   ]
  },
  {
   "cell_type": "code",
   "execution_count": 41,
   "id": "6e62a929-6d0f-478f-af60-1e094200ef65",
   "metadata": {},
   "outputs": [
    {
     "data": {
      "text/plain": [
       "60"
      ]
     },
     "execution_count": 41,
     "metadata": {},
     "output_type": "execute_result"
    }
   ],
   "source": [
    "len(results.resid)"
   ]
  },
  {
   "cell_type": "markdown",
   "id": "dd2237d5-9c45-4f43-b903-35fc2327e569",
   "metadata": {},
   "source": [
    "Z tablic dla $n=60$ oraz $k=1$ odczytałem obszar przyjęcia na $[1.549; 1.616]$ ([link do tablic](https://www3.nd.edu/~wevans1/econ30331/Durbin_Watson_tables.pdf)). Wartość statystyki leży poza przedziałem, zatem $H_o$ o **braku autokorelacji reszt należy odrzucić.**"
   ]
  },
  {
   "cell_type": "markdown",
   "id": "3bbd03d4-fbfb-4952-954a-28e1912d6941",
   "metadata": {},
   "source": [
    "### Wykresy "
   ]
  },
  {
   "cell_type": "code",
   "execution_count": 47,
   "id": "bc5a2ec8-525d-47ba-9bb0-7736a7501ffe",
   "metadata": {},
   "outputs": [],
   "source": [
    "import matplotlib.pylab as plt"
   ]
  },
  {
   "cell_type": "code",
   "execution_count": 54,
   "id": "828ea220-dc4b-4435-bf15-8e58fbe8a763",
   "metadata": {},
   "outputs": [
    {
     "data": {
      "text/plain": [
       "Text(0.5, 1.0, 'Wykres przewidywań modelu')"
      ]
     },
     "execution_count": 54,
     "metadata": {},
     "output_type": "execute_result"
    },
    {
     "data": {
      "image/png": "[encoded data removed]",
      "text/plain": [
       "<Figure size 864x576 with 1 Axes>"
      ]
     },
     "metadata": {
      "needs_background": "light"
     },
     "output_type": "display_data"
    }
   ],
   "source": [
    "pred_ols = results.get_prediction()\n",
    "x = df.index\n",
    "y_true = df['Wypadki drogowe']\n",
    "y = df['Ranni w wypadkach'] * 0.8211 + 3.6426\n",
    "\n",
    "fig, ax = plt.subplots(figsize=(12, 8))\n",
    "\n",
    "ax.plot(y_true, \"o\", label=\"Dane\")\n",
    "ax.plot(y, \"r--.\", label=\"Model\")\n",
    "ax.legend(loc=\"best\")\n",
    "ax.set_title(\"Wykres przewidywań modelu\")"
   ]
  },
  {
   "cell_type": "markdown",
   "id": "6144bdfe-6725-456a-af5c-77327325bf82",
   "metadata": {},
   "source": [
    "## Model 2\n",
    "\n",
    "Pierwszy model jest ok, ale z czystej ciekwości sprawdziłem co stanie sie jeżeli nie usuniemy kolumny `Interwencje`, gdyż posiadała ona najmniejszą korelację (0.292307) z `Ranni w wypadku`. "
   ]
  },
  {
   "cell_type": "code",
   "execution_count": 55,
   "id": "c0b4d94a-fbfe-47f8-8a8c-cf4db5472138",
   "metadata": {},
   "outputs": [
    {
     "data": {
      "text/plain": [
       "Index(['Wypadki drogowe', 'Zatrzymani poszukiwani',\n",
       "       'Zatrzymani nietrzeźwi kierujący', 'mobilność pojazdów',\n",
       "       'Ranni w wypadkach', 'Interwencje', 'Zatrzymani na gorącym uczynku'],\n",
       "      dtype='object')"
      ]
     },
     "execution_count": 55,
     "metadata": {},
     "output_type": "execute_result"
    }
   ],
   "source": [
    "df.columns"
   ]
  },
  {
   "cell_type": "code",
   "execution_count": 56,
   "id": "18f3334a-608b-4275-805f-36daeeff3278",
   "metadata": {},
   "outputs": [
    {
     "name": "stdout",
     "output_type": "stream",
     "text": [
      "                 Results: Ordinary least squares\n",
      "=================================================================\n",
      "Model:              OLS              Adj. R-squared:     0.931   \n",
      "Dependent Variable: Wypadki drogowe  AIC:                338.5026\n",
      "Date:               2021-12-30 15:50 BIC:                344.7856\n",
      "No. Observations:   60               Log-Likelihood:     -166.25 \n",
      "Df Model:           2                F-statistic:        396.0   \n",
      "Df Residuals:       57               Prob (F-statistic): 3.71e-34\n",
      "R-squared:          0.933            Scale:              15.723  \n",
      "-----------------------------------------------------------------\n",
      "                   Coef.  Std.Err.    t    P>|t|   [0.025  0.975]\n",
      "-----------------------------------------------------------------\n",
      "const             -8.3224   4.2844 -1.9425 0.0570 -16.9018 0.2571\n",
      "Ranni w wypadkach  0.7942   0.0307 25.8817 0.0000   0.7327 0.8556\n",
      "Interwencje        0.0008   0.0003  3.0004 0.0040   0.0003 0.0014\n",
      "-----------------------------------------------------------------\n",
      "Omnibus:              1.994        Durbin-Watson:          1.670 \n",
      "Prob(Omnibus):        0.369        Jarque-Bera (JB):       1.227 \n",
      "Skew:                 -0.289       Prob(JB):               0.542 \n",
      "Kurtosis:             3.397        Condition No.:          133888\n",
      "=================================================================\n",
      "* The condition number is large (1e+05). This might indicate\n",
      "strong multicollinearity or other numerical problems.\n"
     ]
    }
   ],
   "source": [
    "y = df['Wypadki drogowe']\n",
    "X = df[['Ranni w wypadkach', 'Interwencje']]\n",
    "X = sm.add_constant(X) # Dodaję stałą do modelu\n",
    "model = sm.OLS(y, X) # Tworzę model\n",
    "results = model.fit() # Dopasowanie parametrów\n",
    "print(results.summary2()) # Wyniki"
   ]
  },
  {
   "cell_type": "markdown",
   "id": "cc8e4fa6-dc5c-4aac-80b4-766937f71722",
   "metadata": {},
   "source": [
    "Model ma:\n",
    "- [x] R-squared powyżej 0.8\n",
    "- [x] Adj. R-squared powyżej 0.8\n",
    "- [x] Prob (F-statistic) < 0.05\n",
    "- [ ] p value dla każdej ze zmiennych $\\nless$ 0.05 (pvalue dla const = 0.057)\n",
    "- [x] Prob(Omnibus) > 0.05 (test normalności reszt, H_0: rozkład normalny)\n",
    "- [x] Prob(JB) > 0.05\n",
    "\n",
    "Zatem model nie przeszedł jednego z testów, znajduje się dokładnie na granicy decyzji. Poprawił się natomiast wynik dla pozostałych tesów (Omnibus i JP)."
   ]
  },
  {
   "cell_type": "markdown",
   "id": "1724abd8-06e4-44da-8040-225f2c1a5fcc",
   "metadata": {},
   "source": [
    "### Analiza reszt modelu\n",
    "Z analizy OLS wiemy już, że nie mamy podstaw do odrzucenia hipotezy, że reszty mają rozkład normalny. Sprawdzę to jeszcze testem serii."
   ]
  },
  {
   "cell_type": "code",
   "execution_count": 57,
   "id": "f3ce2ad2-06f3-496c-957d-651929cad758",
   "metadata": {
    "jupyter": {
     "source_hidden": true
    },
    "tags": []
   },
   "outputs": [
    {
     "data": {
      "text/plain": [
       "Text(0.5, 1.0, 'Histogram reszt modelu')"
      ]
     },
     "execution_count": 57,
     "metadata": {},
     "output_type": "execute_result"
    },
    {
     "data": {
      "image/png": "[encoded data removed]",
      "text/plain": [
       "<Figure size 432x288 with 1 Axes>"
      ]
     },
     "metadata": {
      "needs_background": "light"
     },
     "output_type": "display_data"
    }
   ],
   "source": [
    "sns.histplot(results.resid).set_title('Histogram reszt modelu')"
   ]
  },
  {
   "cell_type": "code",
   "execution_count": 58,
   "id": "a34c7de8-8b63-425d-861d-20972b1cabc9",
   "metadata": {
    "jupyter": {
     "source_hidden": true
    },
    "tags": []
   },
   "outputs": [
    {
     "name": "stdout",
     "output_type": "stream",
     "text": [
      "Test serii\n",
      "Wartość statystyki: -2.0579037471170873\n",
      "Pvalue : 0.039599373980042735\n"
     ]
    }
   ],
   "source": [
    "# Test serii\n",
    "from statsmodels.sandbox.stats.runs import runstest_1samp \n",
    "z_statistic, pvalue = runstest_1samp(results.resid)\n",
    "print(\"Test serii\")\n",
    "print(f\"Wartość statystyki: {z_statistic}\")\n",
    "print(f\"Pvalue : {pvalue}\")"
   ]
  },
  {
   "cell_type": "markdown",
   "id": "5d1bdf73-144a-4794-b96a-f0794830986b",
   "metadata": {},
   "source": [
    "pvalue < 0.05 . Zatem hipotezę o normalności reszt należy odrzucić."
   ]
  },
  {
   "cell_type": "code",
   "execution_count": 59,
   "id": "fa04ee7b-cc9a-4604-894d-1d58d61780f3",
   "metadata": {
    "jupyter": {
     "source_hidden": true
    },
    "tags": []
   },
   "outputs": [
    {
     "data": {
      "text/plain": [
       "Text(0.5, 1.0, 'Wykres przewidywań modelu')"
      ]
     },
     "execution_count": 59,
     "metadata": {},
     "output_type": "execute_result"
    },
    {
     "data": {
      "image/png": "[encoded data removed]",
      "text/plain": [
       "<Figure size 864x576 with 1 Axes>"
      ]
     },
     "metadata": {
      "needs_background": "light"
     },
     "output_type": "display_data"
    }
   ],
   "source": [
    "pred_ols = results.get_prediction()\n",
    "x = df.index\n",
    "y_true = df['Wypadki drogowe']\n",
    "y = df['Ranni w wypadkach'] * 0.7942 - 8.3224 + df['Interwencje'] * 0.0008\n",
    "\n",
    "fig, ax = plt.subplots(figsize=(12, 8))\n",
    "\n",
    "ax.plot(y_true, \"o\", label=\"Dane\")\n",
    "ax.plot(y, \"r--.\", label=\"Model\")\n",
    "ax.legend(loc=\"best\")\n",
    "ax.set_title(\"Wykres przewidywań modelu\")"
   ]
  },
  {
   "cell_type": "markdown",
   "id": "0ccabe7f-8832-4287-8581-9a2792fc051f",
   "metadata": {},
   "source": [
    "Model ten sprawuje się gorzej, szczególnie w ostatnich próbkach można zauważyć dłuższe okresy niedoszacowania i przeszacowania przez model. Na poniższym wykresie przedstawiłem jak wyglądają kolejne serie."
   ]
  },
  {
   "cell_type": "code",
   "execution_count": 36,
   "id": "07623bf2-5cf3-4f03-bfc9-fa52d5bdfb1e",
   "metadata": {},
   "outputs": [
    {
     "data": {
      "text/plain": [
       "[<matplotlib.lines.Line2D at 0x7f076be33c90>]"
      ]
     },
     "execution_count": 36,
     "metadata": {},
     "output_type": "execute_result"
    },
    {
     "data": {
      "image/png": "[encoded data removed]",
      "text/plain": [
       "<Figure size 432x288 with 1 Axes>"
      ]
     },
     "metadata": {
      "needs_background": "light"
     },
     "output_type": "display_data"
    }
   ],
   "source": [
    "plt.plot(np.sign(results.resid))"
   ]
  },
  {
   "cell_type": "markdown",
   "id": "d82beffd-c5ee-4a24-a186-50dbdacd6369",
   "metadata": {},
   "source": [
    "# Podsumowanie\n"
   ]
  }
 ],
 "metadata": {
  "kernelspec": {
   "display_name": "Python 3",
   "language": "python",
   "name": "python3"
  },
  "language_info": {
   "codemirror_mode": {
    "name": "ipython",
    "version": 3
   },
   "file_extension": ".py",
   "mimetype": "text/x-python",
   "name": "python",
   "nbconvert_exporter": "python",
   "pygments_lexer": "ipython3",
   "version": "3.7.10"
  },
  "toc-autonumbering": true,
  "toc-showcode": false,
  "toc-showmarkdowntxt": false,
  "toc-showtags": false
 },
 "nbformat": 4,
 "nbformat_minor": 5
}
