{
 "cells": [
  {
   "cell_type": "markdown",
   "id": "b9f19866-70e0-45ff-859c-3be68af5b1df",
   "metadata": {},
   "source": [
    "# Abstrakt\n"
   ]
  },
  {
   "cell_type": "markdown",
   "id": "656d32fe-16d7-43fe-a843-c3ee378a3190",
   "metadata": {},
   "source": [
    "# Cel projektu\n",
    "\n",
    "Celem projektu było stworzenie liniowego modelu ilości wpadków na drogach z pomocą zmiennych objaśniających pobranych ze strony policji oraz na podstawie pogody."
   ]
  },
  {
   "cell_type": "markdown",
   "id": "297d1019-c5a1-4036-9546-9dfe2d742572",
   "metadata": {},
   "source": [
    "# Dane\n",
    "\n",
    "Dane pochodzą ze strony policji, obejmują zakres pierwszego kwartału roku 2020. Więcej o nich można znaleźć tutaj: [Strona policji](https://policja.pl/pol/form/1,dok.html)\n",
    "\n",
    "Drugi zestaw danych to dane meteorologiczne dla Warszawy, również z pierwszego kwartału roku 2020. Pobrane zostały z pomocą API platrofmy www.meteostat.net/"
   ]
  },
  {
   "cell_type": "markdown",
   "id": "0700b721-4a4f-4ed0-b874-f88ada769138",
   "metadata": {},
   "source": [
    "## Pobranie danych"
   ]
  },
  {
   "cell_type": "code",
   "execution_count": 17,
   "id": "25ba62df-f36d-4a26-9cfb-6b3d6719fa03",
   "metadata": {},
   "outputs": [],
   "source": [
    "import pandas\n",
    "import numpy as np"
   ]
  },
  {
   "cell_type": "code",
   "execution_count": 9,
   "id": "99733f22-c42d-4815-aefb-d081c99b3e09",
   "metadata": {},
   "outputs": [],
   "source": [
    "df = pandas.read_csv(\"./dane.csv\", sep=\"\\t\", decimal=\",\", dtype=\"float32\")"
   ]
  },
  {
   "cell_type": "code",
   "execution_count": 10,
   "id": "acb3dc3d-689c-476c-9d06-2e1a80cb7e18",
   "metadata": {},
   "outputs": [
    {
     "name": "stdout",
     "output_type": "stream",
     "text": [
      "<class 'pandas.core.frame.DataFrame'>\n",
      "RangeIndex: 60 entries, 0 to 59\n",
      "Data columns (total 11 columns):\n",
      " #   Column                           Non-Null Count  Dtype  \n",
      "---  ------                           --------------  -----  \n",
      " 0   Wypadki drogowe                  60 non-null     float32\n",
      " 1   Zatrzymani poszukiwani           60 non-null     float32\n",
      " 2   Zatrzymani nietrzeźwi kierujący  60 non-null     float32\n",
      " 3   temperature_max                  60 non-null     float32\n",
      " 4   mobilność pojazdów               60 non-null     float32\n",
      " 5   Zabici w wypadkach               60 non-null     float32\n",
      " 6   Ranni w wypadkach                60 non-null     float32\n",
      " 7   temperature                      60 non-null     float32\n",
      " 8   temperature_min                  60 non-null     float32\n",
      " 9   Interwencje                      60 non-null     float32\n",
      " 10  Zatrzymani na gorącym uczynku    60 non-null     float32\n",
      "dtypes: float32(11)\n",
      "memory usage: 2.7 KB\n"
     ]
    }
   ],
   "source": [
    "df.info()"
   ]
  },
  {
   "cell_type": "markdown",
   "id": "85977d53-327c-42f3-ba57-9c0005208f8d",
   "metadata": {},
   "source": [
    "Jak widać powyżej dane składają się z 60 próbek oraz nie posiadają pustych wartości."
   ]
  },
  {
   "cell_type": "markdown",
   "id": "2f9fc76b-d410-4ed3-bde2-25f354f6f3b9",
   "metadata": {},
   "source": [
    "## Eliminacja quasi - stalych"
   ]
  },
  {
   "cell_type": "code",
   "execution_count": 28,
   "id": "e0eeb37a-3f4e-43c4-87ec-5a731c47b292",
   "metadata": {},
   "outputs": [],
   "source": [
    "S = df.var()\n",
    "x = df.mean()"
   ]
  },
  {
   "cell_type": "code",
   "execution_count": 29,
   "id": "a2cc2242-4d93-42c9-9fb4-764009fb24d4",
   "metadata": {},
   "outputs": [
    {
     "data": {
      "text/plain": [
       "Wypadki drogowe                      5.019958\n",
       "Zatrzymani poszukiwani              16.410904\n",
       "Zatrzymani nietrzeźwi kierujący     13.943410\n",
       "temperature_max                      1.059987\n",
       "mobilność pojazdów                 -13.597410\n",
       "Zabici w wypadkach                   1.414983\n",
       "Ranni w wypadkach                    6.134233\n",
       "temperature                          1.120702\n",
       "temperature_min                      2.801074\n",
       "Interwencje                        234.719513\n",
       "Zatrzymani na gorącym uczynku       24.527481\n",
       "dtype: float32"
      ]
     },
     "execution_count": 29,
     "metadata": {},
     "output_type": "execute_result"
    }
   ],
   "source": [
    "S / x"
   ]
  },
  {
   "cell_type": "markdown",
   "id": "b0fda115-cc9c-4155-9530-378909b1e8d3",
   "metadata": {},
   "source": [
    "Ze względu na małą zmienność (5%) wartości przewydywanej (wypadki drogowe). W modelu uwzględnię wszystkie zmienne, kóre mają zmienność większą."
   ]
  },
  {
   "cell_type": "code",
   "execution_count": 30,
   "id": "cb896a4d-5cdd-4a52-948b-dad00d09b257",
   "metadata": {},
   "outputs": [
    {
     "data": {
      "text/plain": [
       "Index(['Wypadki drogowe', 'Zatrzymani poszukiwani',\n",
       "       'Zatrzymani nietrzeźwi kierujący', 'mobilność pojazdów',\n",
       "       'Ranni w wypadkach', 'Interwencje', 'Zatrzymani na gorącym uczynku'],\n",
       "      dtype='object')"
      ]
     },
     "execution_count": 30,
     "metadata": {},
     "output_type": "execute_result"
    }
   ],
   "source": []
  },
  {
   "cell_type": "code",
   "execution_count": 32,
   "id": "d07e26cc-ebd1-448b-ac57-5d594a275123",
   "metadata": {},
   "outputs": [],
   "source": [
    "df = df[df.columns[np.abs((S / x)) > 5]]"
   ]
  },
  {
   "cell_type": "code",
   "execution_count": 34,
   "id": "9201c270-25a4-401f-849f-f94f46e2eae1",
   "metadata": {},
   "outputs": [
    {
     "data": {
      "text/html": [
       "<div>\n",
       "<style scoped>\n",
       "    .dataframe tbody tr th:only-of-type {\n",
       "        vertical-align: middle;\n",
       "    }\n",
       "\n",
       "    .dataframe tbody tr th {\n",
       "        vertical-align: top;\n",
       "    }\n",
       "\n",
       "    .dataframe thead th {\n",
       "        text-align: right;\n",
       "    }\n",
       "</style>\n",
       "<table border=\"1\" class=\"dataframe\">\n",
       "  <thead>\n",
       "    <tr style=\"text-align: right;\">\n",
       "      <th></th>\n",
       "      <th>Wypadki drogowe</th>\n",
       "      <th>Zatrzymani poszukiwani</th>\n",
       "      <th>Zatrzymani nietrzeźwi kierujący</th>\n",
       "      <th>mobilność pojazdów</th>\n",
       "      <th>Ranni w wypadkach</th>\n",
       "      <th>Interwencje</th>\n",
       "      <th>Zatrzymani na gorącym uczynku</th>\n",
       "    </tr>\n",
       "  </thead>\n",
       "  <tbody>\n",
       "    <tr>\n",
       "      <th>0</th>\n",
       "      <td>31.0</td>\n",
       "      <td>126.0</td>\n",
       "      <td>106.0</td>\n",
       "      <td>-62.619999</td>\n",
       "      <td>30.0</td>\n",
       "      <td>11688.0</td>\n",
       "      <td>255.0</td>\n",
       "    </tr>\n",
       "    <tr>\n",
       "      <th>1</th>\n",
       "      <td>17.0</td>\n",
       "      <td>139.0</td>\n",
       "      <td>104.0</td>\n",
       "      <td>-63.669998</td>\n",
       "      <td>27.0</td>\n",
       "      <td>13228.0</td>\n",
       "      <td>301.0</td>\n",
       "    </tr>\n",
       "    <tr>\n",
       "      <th>2</th>\n",
       "      <td>29.0</td>\n",
       "      <td>151.0</td>\n",
       "      <td>94.0</td>\n",
       "      <td>-64.220001</td>\n",
       "      <td>32.0</td>\n",
       "      <td>13966.0</td>\n",
       "      <td>296.0</td>\n",
       "    </tr>\n",
       "    <tr>\n",
       "      <th>3</th>\n",
       "      <td>24.0</td>\n",
       "      <td>153.0</td>\n",
       "      <td>114.0</td>\n",
       "      <td>-63.400002</td>\n",
       "      <td>20.0</td>\n",
       "      <td>15926.0</td>\n",
       "      <td>285.0</td>\n",
       "    </tr>\n",
       "    <tr>\n",
       "      <th>4</th>\n",
       "      <td>30.0</td>\n",
       "      <td>151.0</td>\n",
       "      <td>145.0</td>\n",
       "      <td>-70.489998</td>\n",
       "      <td>33.0</td>\n",
       "      <td>18900.0</td>\n",
       "      <td>383.0</td>\n",
       "    </tr>\n",
       "  </tbody>\n",
       "</table>\n",
       "</div>"
      ],
      "text/plain": [
       "   Wypadki drogowe  Zatrzymani poszukiwani  Zatrzymani nietrzeźwi kierujący  \\\n",
       "0             31.0                   126.0                            106.0   \n",
       "1             17.0                   139.0                            104.0   \n",
       "2             29.0                   151.0                             94.0   \n",
       "3             24.0                   153.0                            114.0   \n",
       "4             30.0                   151.0                            145.0   \n",
       "\n",
       "   mobilność pojazdów  Ranni w wypadkach  Interwencje  \\\n",
       "0          -62.619999               30.0      11688.0   \n",
       "1          -63.669998               27.0      13228.0   \n",
       "2          -64.220001               32.0      13966.0   \n",
       "3          -63.400002               20.0      15926.0   \n",
       "4          -70.489998               33.0      18900.0   \n",
       "\n",
       "   Zatrzymani na gorącym uczynku  \n",
       "0                          255.0  \n",
       "1                          301.0  \n",
       "2                          296.0  \n",
       "3                          285.0  \n",
       "4                          383.0  "
      ]
     },
     "execution_count": 34,
     "metadata": {},
     "output_type": "execute_result"
    }
   ],
   "source": [
    "df.head(5)"
   ]
  },
  {
   "cell_type": "markdown",
   "id": "4e5d9f1d-e722-486a-b8e2-48f10596368b",
   "metadata": {},
   "source": [
    "# Wybór zmiennych do modelu\n",
    "\n",
    "Wybierając zmienne w modelu, posłużę się metodą analizy macierzy współczynników korelacji."
   ]
  },
  {
   "cell_type": "code",
   "execution_count": 74,
   "id": "79eb6757-5582-443e-a045-a17c9bbf53df",
   "metadata": {},
   "outputs": [],
   "source": [
    "from scipy.stats import t\n",
    "\n",
    "alpha = 0.05\n",
    "N = len(df)\n",
    "t = t.ppf(1 - alpha, N-2)"
   ]
  },
  {
   "cell_type": "code",
   "execution_count": 75,
   "id": "6505a08f-b3aa-4d09-afe1-61c1e3987bfc",
   "metadata": {},
   "outputs": [
    {
     "data": {
      "text/plain": [
       "0.2143825406137366"
      ]
     },
     "execution_count": 75,
     "metadata": {},
     "output_type": "execute_result"
    }
   ],
   "source": [
    "r = np.sqrt(t**2/(t**2 + N - 2))\n",
    "r"
   ]
  },
  {
   "cell_type": "code",
   "execution_count": 76,
   "id": "c6ddb094-2114-4145-9b85-da145e5b4fbf",
   "metadata": {},
   "outputs": [
    {
     "data": {
      "text/html": [
       "<div>\n",
       "<style scoped>\n",
       "    .dataframe tbody tr th:only-of-type {\n",
       "        vertical-align: middle;\n",
       "    }\n",
       "\n",
       "    .dataframe tbody tr th {\n",
       "        vertical-align: top;\n",
       "    }\n",
       "\n",
       "    .dataframe thead th {\n",
       "        text-align: right;\n",
       "    }\n",
       "</style>\n",
       "<table border=\"1\" class=\"dataframe\">\n",
       "  <thead>\n",
       "    <tr style=\"text-align: right;\">\n",
       "      <th></th>\n",
       "      <th>Wypadki drogowe</th>\n",
       "      <th>Zatrzymani poszukiwani</th>\n",
       "      <th>Zatrzymani nietrzeźwi kierujący</th>\n",
       "      <th>mobilność pojazdów</th>\n",
       "      <th>Ranni w wypadkach</th>\n",
       "      <th>Interwencje</th>\n",
       "      <th>Zatrzymani na gorącym uczynku</th>\n",
       "    </tr>\n",
       "  </thead>\n",
       "  <tbody>\n",
       "    <tr>\n",
       "      <th>Wypadki drogowe</th>\n",
       "      <td>1.000000</td>\n",
       "      <td>0.507234</td>\n",
       "      <td>0.429340</td>\n",
       "      <td>0.767076</td>\n",
       "      <td>0.960340</td>\n",
       "      <td>0.379193</td>\n",
       "      <td>0.690641</td>\n",
       "    </tr>\n",
       "    <tr>\n",
       "      <th>Zatrzymani poszukiwani</th>\n",
       "      <td>0.507234</td>\n",
       "      <td>1.000000</td>\n",
       "      <td>-0.134454</td>\n",
       "      <td>0.723037</td>\n",
       "      <td>0.492617</td>\n",
       "      <td>0.192777</td>\n",
       "      <td>0.462056</td>\n",
       "    </tr>\n",
       "    <tr>\n",
       "      <th>Zatrzymani nietrzeźwi kierujący</th>\n",
       "      <td>0.429340</td>\n",
       "      <td>-0.134454</td>\n",
       "      <td>1.000000</td>\n",
       "      <td>0.401068</td>\n",
       "      <td>0.415218</td>\n",
       "      <td>0.120871</td>\n",
       "      <td>0.750261</td>\n",
       "    </tr>\n",
       "    <tr>\n",
       "      <th>mobilność pojazdów</th>\n",
       "      <td>0.767076</td>\n",
       "      <td>0.723037</td>\n",
       "      <td>0.401068</td>\n",
       "      <td>1.000000</td>\n",
       "      <td>0.751973</td>\n",
       "      <td>0.086337</td>\n",
       "      <td>0.831563</td>\n",
       "    </tr>\n",
       "    <tr>\n",
       "      <th>Ranni w wypadkach</th>\n",
       "      <td>0.960340</td>\n",
       "      <td>0.492617</td>\n",
       "      <td>0.415218</td>\n",
       "      <td>0.751973</td>\n",
       "      <td>1.000000</td>\n",
       "      <td>0.292307</td>\n",
       "      <td>0.680938</td>\n",
       "    </tr>\n",
       "    <tr>\n",
       "      <th>Interwencje</th>\n",
       "      <td>0.379193</td>\n",
       "      <td>0.192777</td>\n",
       "      <td>0.120871</td>\n",
       "      <td>0.086337</td>\n",
       "      <td>0.292307</td>\n",
       "      <td>1.000000</td>\n",
       "      <td>0.154223</td>\n",
       "    </tr>\n",
       "    <tr>\n",
       "      <th>Zatrzymani na gorącym uczynku</th>\n",
       "      <td>0.690641</td>\n",
       "      <td>0.462056</td>\n",
       "      <td>0.750261</td>\n",
       "      <td>0.831563</td>\n",
       "      <td>0.680938</td>\n",
       "      <td>0.154223</td>\n",
       "      <td>1.000000</td>\n",
       "    </tr>\n",
       "  </tbody>\n",
       "</table>\n",
       "</div>"
      ],
      "text/plain": [
       "                                 Wypadki drogowe  Zatrzymani poszukiwani  \\\n",
       "Wypadki drogowe                         1.000000                0.507234   \n",
       "Zatrzymani poszukiwani                  0.507234                1.000000   \n",
       "Zatrzymani nietrzeźwi kierujący         0.429340               -0.134454   \n",
       "mobilność pojazdów                      0.767076                0.723037   \n",
       "Ranni w wypadkach                       0.960340                0.492617   \n",
       "Interwencje                             0.379193                0.192777   \n",
       "Zatrzymani na gorącym uczynku           0.690641                0.462056   \n",
       "\n",
       "                                 Zatrzymani nietrzeźwi kierujący  \\\n",
       "Wypadki drogowe                                         0.429340   \n",
       "Zatrzymani poszukiwani                                 -0.134454   \n",
       "Zatrzymani nietrzeźwi kierujący                         1.000000   \n",
       "mobilność pojazdów                                      0.401068   \n",
       "Ranni w wypadkach                                       0.415218   \n",
       "Interwencje                                             0.120871   \n",
       "Zatrzymani na gorącym uczynku                           0.750261   \n",
       "\n",
       "                                 mobilność pojazdów  Ranni w wypadkach  \\\n",
       "Wypadki drogowe                            0.767076           0.960340   \n",
       "Zatrzymani poszukiwani                     0.723037           0.492617   \n",
       "Zatrzymani nietrzeźwi kierujący            0.401068           0.415218   \n",
       "mobilność pojazdów                         1.000000           0.751973   \n",
       "Ranni w wypadkach                          0.751973           1.000000   \n",
       "Interwencje                                0.086337           0.292307   \n",
       "Zatrzymani na gorącym uczynku              0.831563           0.680938   \n",
       "\n",
       "                                 Interwencje  Zatrzymani na gorącym uczynku  \n",
       "Wypadki drogowe                     0.379193                       0.690641  \n",
       "Zatrzymani poszukiwani              0.192777                       0.462056  \n",
       "Zatrzymani nietrzeźwi kierujący     0.120871                       0.750261  \n",
       "mobilność pojazdów                  0.086337                       0.831563  \n",
       "Ranni w wypadkach                   0.292307                       0.680938  \n",
       "Interwencje                         1.000000                       0.154223  \n",
       "Zatrzymani na gorącym uczynku       0.154223                       1.000000  "
      ]
     },
     "execution_count": 76,
     "metadata": {},
     "output_type": "execute_result"
    }
   ],
   "source": [
    "df.corr()"
   ]
  },
  {
   "cell_type": "markdown",
   "id": "10934268-0d6a-4270-9e65-e8a36eded395",
   "metadata": {},
   "source": [
    "1. Usuwam zmienne, dla których wartość w kolumnie `Wypadki drogowe` jest poniżej progu `r` (tutaj wszystkie są OK)."
   ]
  },
  {
   "cell_type": "code",
   "execution_count": 77,
   "id": "2399a2d8-ff7e-4f36-a364-94c9d2988ae5",
   "metadata": {},
   "outputs": [
    {
     "data": {
      "text/plain": [
       "Wypadki drogowe                    0.960340\n",
       "Zatrzymani poszukiwani             0.492617\n",
       "Zatrzymani nietrzeźwi kierujący    0.415218\n",
       "mobilność pojazdów                 0.751973\n",
       "Ranni w wypadkach                  1.000000\n",
       "Interwencje                        0.292307\n",
       "Zatrzymani na gorącym uczynku      0.680938\n",
       "Name: Ranni w wypadkach, dtype: float64"
      ]
     },
     "execution_count": 77,
     "metadata": {},
     "output_type": "execute_result"
    }
   ],
   "source": [
    "df.corr().loc[\"Ranni w wypadkach\"]"
   ]
  },
  {
   "cell_type": "markdown",
   "id": "172db409-2f8a-45e4-b377-56cfaa20e7a3",
   "metadata": {},
   "source": [
    "2. Wybieram `Ranni w wypadkach`. Usuwam `Zatrzymani poszukiwani`, `Zatrzymani nietrzeźwi kierujący`, `mobilność pojazdów`, `Interwencje` ,`Zatrzymani na gorącym uczynku`, \n",
    "3. Koniec."
   ]
  },
  {
   "cell_type": "markdown",
   "id": "375aa5a5-1dfb-4de8-965b-5c26bf2b96f1",
   "metadata": {},
   "source": [
    "# Budowa modelu"
   ]
  },
  {
   "cell_type": "code",
   "execution_count": null,
   "id": "d62bc973-dd48-4265-91c7-906e3e5136ff",
   "metadata": {},
   "outputs": [],
   "source": []
  }
 ],
 "metadata": {
  "kernelspec": {
   "display_name": "Python 3",
   "language": "python",
   "name": "python3"
  },
  "language_info": {
   "codemirror_mode": {
    "name": "ipython",
    "version": 3
   },
   "file_extension": ".py",
   "mimetype": "text/x-python",
   "name": "python",
   "nbconvert_exporter": "python",
   "pygments_lexer": "ipython3",
   "version": "3.7.10"
  }
 },
 "nbformat": 4,
 "nbformat_minor": 5
}
